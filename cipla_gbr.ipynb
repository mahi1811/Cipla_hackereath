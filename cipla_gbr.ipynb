{
  "nbformat": 4,
  "nbformat_minor": 0,
  "metadata": {
    "colab": {
      "name": "cipla_gbr.ipynb",
      "provenance": []
    },
    "kernelspec": {
      "name": "python3",
      "display_name": "Python 3"
    },
    "language_info": {
      "name": "python"
    }
  },
  "cells": [
    {
      "cell_type": "code",
      "metadata": {
        "id": "_JGaX_ErikEK"
      },
      "source": [
        ""
      ],
      "execution_count": null,
      "outputs": []
    },
    {
      "cell_type": "code",
      "metadata": {
        "id": "kUQY6jdRbe4x"
      },
      "source": [
        ""
      ],
      "execution_count": null,
      "outputs": []
    },
    {
      "cell_type": "code",
      "metadata": {
        "id": "Ofy6orNTW_Wf"
      },
      "source": [
        ""
      ],
      "execution_count": null,
      "outputs": []
    },
    {
      "cell_type": "code",
      "metadata": {
        "colab": {
          "base_uri": "https://localhost:8080/"
        },
        "id": "PmSpHM3fTH2E",
        "outputId": "16f099d8-810b-47e8-98d2-e69fe5ac1899"
      },
      "source": [
        "import pandas as pd\n",
        "pd.set_option('display.max_columns', None)\n",
        "df=pd.read_csv('/content/train.csv')\n",
        "test_data=pd.read_csv('/content/test.csv')\n",
        "df.head()\n",
        "print(df.shape)\n",
        "test_data.shape\n"
      ],
      "execution_count": null,
      "outputs": [
        {
          "output_type": "stream",
          "text": [
            "(30000, 24)\n"
          ],
          "name": "stdout"
        },
        {
          "output_type": "execute_result",
          "data": {
            "text/plain": [
              "(20000, 23)"
            ]
          },
          "metadata": {
            "tags": []
          },
          "execution_count": 1
        }
      ]
    },
    {
      "cell_type": "markdown",
      "metadata": {
        "id": "rA8_zXIHp6A1"
      },
      "source": [
        "# New section"
      ]
    },
    {
      "cell_type": "code",
      "metadata": {
        "colab": {
          "base_uri": "https://localhost:8080/"
        },
        "id": "9i4TQivMUW6f",
        "outputId": "39825d5e-60b3-4928-f266-f7d869deaac6"
      },
      "source": [
        "new_df=df.dropna()\n",
        "new_df.shape"
      ],
      "execution_count": null,
      "outputs": [
        {
          "output_type": "execute_result",
          "data": {
            "text/plain": [
              "(15050, 24)"
            ]
          },
          "metadata": {
            "tags": []
          },
          "execution_count": 2
        }
      ]
    },
    {
      "cell_type": "markdown",
      "metadata": {
        "id": "ED17WP-0U5Df"
      },
      "source": [
        "Total columns containing null values=15000"
      ]
    },
    {
      "cell_type": "code",
      "metadata": {
        "colab": {
          "base_uri": "https://localhost:8080/"
        },
        "id": "23VZMLj9YwG2",
        "outputId": "ffa35251-5985-4e4c-86b4-8af67c36cbc8"
      },
      "source": [
        "test_data.isnull().sum()"
      ],
      "execution_count": null,
      "outputs": [
        {
          "output_type": "execute_result",
          "data": {
            "text/plain": [
              "Customer ID                       0\n",
              "Name                              0\n",
              "Gender                           31\n",
              "Age                               0\n",
              "Income (USD)                    750\n",
              "Income Stability                813\n",
              "Profession                        0\n",
              "Type of Employment             4689\n",
              "Location                          0\n",
              "Loan Amount Request (USD)         0\n",
              "Current Loan Expenses (USD)      83\n",
              "Expense Type 1                    0\n",
              "Expense Type 2                    0\n",
              "Dependents                     1142\n",
              "Credit Score                    743\n",
              "No. of Defaults                   0\n",
              "Has Active Credit Card         1076\n",
              "Property ID                       0\n",
              "Property Age                    892\n",
              "Property Type                     0\n",
              "Property Location               160\n",
              "Co-Applicant                      0\n",
              "Property Price                    0\n",
              "dtype: int64"
            ]
          },
          "metadata": {
            "tags": []
          },
          "execution_count": 3
        }
      ]
    },
    {
      "cell_type": "code",
      "metadata": {
        "id": "WyVnoyaUUxIa"
      },
      "source": [
        "#print(df.head(), df.Gender.describe(), df.Profession.describe(),df.shape, df.describe())"
      ],
      "execution_count": null,
      "outputs": []
    },
    {
      "cell_type": "code",
      "metadata": {
        "colab": {
          "base_uri": "https://localhost:8080/"
        },
        "id": "VTujkuKuWHzf",
        "outputId": "f1062dc9-2313-4c60-9d4a-fcb2286dd929"
      },
      "source": [
        "# print(df[\"Profession\"].astype('category').dtypes)\n",
        "#print(pd.unique(df[\"Profession\"]))\n",
        "# df[\"Profession\"] = df[\"Profession\"].astype('category')\n",
        "# df[\"Profession\"] = df[\"Profession\"].cat.codes\n",
        "# print(pd.unique(df[\"Profession\"]))\n",
        "\n",
        "New_Gender=test_data['Gender'].replace(['F','M'],[1,0])\n",
        "New_Income_Stability=test_data['Income Stability'].replace(['Low','High'],[0,1])\n",
        "New_Location=test_data['Location'].replace(['Rural','Semi-Urban','Urban'],[1,2,3])\n",
        "New_Expense_Type_1=test_data['Expense Type 1'].replace(['N','Y'],[0,1])\n",
        "New_Expense_Type_2=test_data['Expense Type 2'].replace(['N','Y'],[0,1])\n",
        "New_Property_Location=test_data['Property Location'].replace(['Rural','Semi-Urban','Urban'],[1,2,3])\n",
        "New_Profession = test_data['Profession'].replace(['Working', 'Pensioner', 'State servant', 'Commercial associate',\\\n",
        "'Unemployed','Student', 'Businessman', 'Maternity leave'],[1.0,2.0,3,4,5,6,7,8])\n",
        "\n",
        "list_of_tuple = list(zip(New_Gender,New_Income_Stability,New_Location,New_Expense_Type_1,New_Expense_Type_2,New_Property_Location,New_Profession))\n",
        "new_d_test = pd.DataFrame(list_of_tuple,columns=['Gender', 'Income_Stability','Location','Expense_Type_1','Expense_Type_2','Property_Location','Profession'])  \n",
        "new_d_test['Customer ID']=test_data['Customer ID']\n",
        "new_d_test['Age']=test_data['Age']\n",
        "new_d_test['Income (USD)']=test_data['Income (USD)']\n",
        "new_d_test['Loan Amount Request (USD)']=test_data['Loan Amount Request (USD)']\n",
        "new_d_test['Current Loan Expenses (USD)']=test_data['Current Loan Expenses (USD)']\n",
        "new_d_test['Dependents']=test_data['Dependents']\n",
        "new_d_test['Credit Score']=test_data['Credit Score']\n",
        "new_d_test['No. of Defaults']=test_data['No. of Defaults']\n",
        "new_d_test['Co-Applicant']=test_data['Co-Applicant']\n",
        "new_d_test['Property Price']=test_data['Property Price']\n",
        "new_d_test['Property Type']=test_data['Property Type']\n",
        "\n",
        "new_d_test.head()\n",
        "print(new_d_test.shape)\n",
        "print(new_d_test.isnull().sum())\n",
        "\n",
        "\n",
        "new_d_test['Co-Applicant']=new_d_test['Co-Applicant'].replace(['?'],[0])\n",
        "new_d_test['Property Price']=new_d_test['Property Price'].replace(['?'],[0])\n",
        "new_d_test['Property Price'].describe()\n",
        "print(new_d_test.describe(include='all'))\n"
      ],
      "execution_count": null,
      "outputs": [
        {
          "output_type": "stream",
          "text": [
            "(20000, 18)\n",
            "Gender                           31\n",
            "Income_Stability                813\n",
            "Location                          0\n",
            "Expense_Type_1                    0\n",
            "Expense_Type_2                    0\n",
            "Property_Location               160\n",
            "Profession                        0\n",
            "Customer ID                       0\n",
            "Age                               0\n",
            "Income (USD)                    750\n",
            "Loan Amount Request (USD)         0\n",
            "Current Loan Expenses (USD)      83\n",
            "Dependents                     1142\n",
            "Credit Score                    743\n",
            "No. of Defaults                   0\n",
            "Co-Applicant                      0\n",
            "Property Price                    0\n",
            "Property Type                     0\n",
            "dtype: int64\n",
            "              Gender  Income_Stability      Location  Expense_Type_1  \\\n",
            "count   19969.000000      19187.000000  20000.000000    20000.000000   \n",
            "unique           NaN               NaN           NaN             NaN   \n",
            "top              NaN               NaN           NaN             NaN   \n",
            "freq             NaN               NaN           NaN             NaN   \n",
            "mean        0.507887          0.087872      1.933250        0.359200   \n",
            "std         0.499950          0.283116      0.521927        0.479778   \n",
            "min         0.000000          0.000000      1.000000        0.000000   \n",
            "25%         0.000000          0.000000      2.000000        0.000000   \n",
            "50%         1.000000          0.000000      2.000000        0.000000   \n",
            "75%         1.000000          0.000000      2.000000        1.000000   \n",
            "max         1.000000          1.000000      3.000000        1.000000   \n",
            "\n",
            "        Expense_Type_2  Property_Location    Profession Customer ID  \\\n",
            "count     20000.000000       19840.000000  20000.000000       20000   \n",
            "unique             NaN                NaN           NaN       20000   \n",
            "top                NaN                NaN           NaN     C-26448   \n",
            "freq               NaN                NaN           NaN           1   \n",
            "mean          0.669150           1.973034      2.034700         NaN   \n",
            "std           0.470531           0.809072      1.305098         NaN   \n",
            "min           0.000000           1.000000      1.000000         NaN   \n",
            "25%           0.000000           1.000000      1.000000         NaN   \n",
            "50%           1.000000           2.000000      1.000000         NaN   \n",
            "75%           1.000000           3.000000      4.000000         NaN   \n",
            "max           1.000000           3.000000      8.000000         NaN   \n",
            "\n",
            "                 Age  Income (USD)  Loan Amount Request (USD)  \\\n",
            "count   20000.000000  19250.000000               20000.000000   \n",
            "unique           NaN           NaN                        NaN   \n",
            "top              NaN           NaN                        NaN   \n",
            "freq             NaN           NaN                        NaN   \n",
            "mean       39.940500   2536.995394               88859.076706   \n",
            "std        16.097618   1415.908803               60007.333673   \n",
            "min        18.000000    368.590000                6185.480000   \n",
            "25%        25.000000   1659.722500               40889.030000   \n",
            "50%        40.000000   2224.590000               74565.990000   \n",
            "75%        55.000000   3082.925000              120068.852500   \n",
            "max        65.000000  30427.680000              576335.680000   \n",
            "\n",
            "        Current Loan Expenses (USD)    Dependents  Credit Score  \\\n",
            "count                  19917.000000  18858.000000  19257.000000   \n",
            "unique                          NaN           NaN           NaN   \n",
            "top                             NaN           NaN           NaN   \n",
            "freq                            NaN           NaN           NaN   \n",
            "mean                     408.462359      2.251246    738.821538   \n",
            "std                      215.846532      0.953153     72.406504   \n",
            "min                       41.370000      1.000000    580.040000   \n",
            "25%                      250.890000      2.000000    680.300000   \n",
            "50%                      374.000000      2.000000    739.300000   \n",
            "75%                      519.570000      3.000000    797.440000   \n",
            "max                     3305.970000     13.000000    893.830000   \n",
            "\n",
            "        No. of Defaults Co-Applicant  Property Price  Property Type  \n",
            "count      20000.000000        20000         20000.0    20000.00000  \n",
            "unique              NaN            3         19824.0            NaN  \n",
            "top                 NaN            1             0.0            NaN  \n",
            "freq                NaN        17004           168.0            NaN  \n",
            "mean           0.189500          NaN             NaN        2.47190  \n",
            "std            0.391915          NaN             NaN        1.12551  \n",
            "min            0.000000          NaN             NaN        1.00000  \n",
            "25%            0.000000          NaN             NaN        1.00000  \n",
            "50%            0.000000          NaN             NaN        2.00000  \n",
            "75%            0.000000          NaN             NaN        3.00000  \n",
            "max            1.000000          NaN             NaN        4.00000  \n"
          ],
          "name": "stdout"
        }
      ]
    },
    {
      "cell_type": "markdown",
      "metadata": {
        "id": "UIV_5XSpeoQ8"
      },
      "source": [
        "After Excluding following columns \n",
        "1.Name\n",
        "2.Type of employment\n",
        "3.Property ID\n",
        "4.Has active credit card\n",
        "\n"
      ]
    },
    {
      "cell_type": "code",
      "metadata": {
        "colab": {
          "base_uri": "https://localhost:8080/",
          "height": 1000
        },
        "id": "-cH2eHQubKAp",
        "outputId": "7ddd02de-4cbc-4924-ecdc-3841948a7b4b"
      },
      "source": [
        "#Plotting columns containing null values\n",
        "import matplotlib.pyplot as plt\n",
        "\n",
        "new_d_test['Income_Stability'].plot(kind='hist')\n",
        "plt.show()\n",
        "new_d_test['Gender'].plot(kind='hist')\n",
        "plt.show()\n",
        "new_d_test['Property_Location'].plot(kind='hist')\n",
        "plt.show()\n",
        "new_d_test['Current Loan Expenses (USD)'].plot(kind='hist')\n",
        "plt.show()\n",
        "new_d_test['Dependents'].plot(kind='hist')\n",
        "plt.show()\n",
        "new_d_test['Credit Score'].plot(kind='hist')\n",
        "plt.show()\n",
        "\n"
      ],
      "execution_count": null,
      "outputs": [
        {
          "output_type": "display_data",
          "data": {
            "image/png": "[encoded data removed]",
            "text/plain": [
              "<Figure size 432x288 with 1 Axes>"
            ]
          },
          "metadata": {
            "tags": [],
            "needs_background": "light"
          }
        },
        {
          "output_type": "display_data",
          "data": {
            "image/png": "[encoded data removed]",
            "text/plain": [
              "<Figure size 432x288 with 1 Axes>"
            ]
          },
          "metadata": {
            "tags": [],
            "needs_background": "light"
          }
        },
        {
          "output_type": "display_data",
          "data": {
            "image/png": "[encoded data removed]",
            "text/plain": [
              "<Figure size 432x288 with 1 Axes>"
            ]
          },
          "metadata": {
            "tags": [],
            "needs_background": "light"
          }
        },
        {
          "output_type": "display_data",
          "data": {
            "image/png": "[encoded data removed]",
            "text/plain": [
              "<Figure size 432x288 with 1 Axes>"
            ]
          },
          "metadata": {
            "tags": [],
            "needs_background": "light"
          }
        },
        {
          "output_type": "display_data",
          "data": {
            "image/png": "[encoded data removed]",
            "text/plain": [
              "<Figure size 432x288 with 1 Axes>"
            ]
          },
          "metadata": {
            "tags": [],
            "needs_background": "light"
          }
        },
        {
          "output_type": "display_data",
          "data": {
            "image/png": "[encoded data removed]",
            "text/plain": [
              "<Figure size 432x288 with 1 Axes>"
            ]
          },
          "metadata": {
            "tags": [],
            "needs_background": "light"
          }
        }
      ]
    },
    {
      "cell_type": "code",
      "metadata": {
        "colab": {
          "base_uri": "https://localhost:8080/"
        },
        "id": "aPOfh_Y-Y464",
        "outputId": "ed82ed7e-81a1-47cc-fd29-065b8632091f"
      },
      "source": [
        "#Replacing all null values with median\n",
        "\n",
        "new_d_test['Gender'].fillna(value=1,inplace=True)\n",
        "new_d_test['Income (USD)'].fillna(value=2536.995394,inplace=True)\n",
        "new_d_test['Income_Stability'].fillna(value=0,inplace=True)\n",
        "new_d_test['Property_Location'].fillna(value=2,inplace=True)\n",
        "new_d_test['Current Loan Expenses (USD)'].fillna(value=374,inplace=True)\n",
        "new_d_test['Dependents'].fillna(value=2,inplace=True)\n",
        "new_d_test['Credit Score'].fillna(value=739.300000,inplace=True)\n",
        "print(new_d_test.isnull().sum())"
      ],
      "execution_count": null,
      "outputs": [
        {
          "output_type": "stream",
          "text": [
            "Gender                         0\n",
            "Income_Stability               0\n",
            "Location                       0\n",
            "Expense_Type_1                 0\n",
            "Expense_Type_2                 0\n",
            "Property_Location              0\n",
            "Profession                     0\n",
            "Customer ID                    0\n",
            "Age                            0\n",
            "Income (USD)                   0\n",
            "Loan Amount Request (USD)      0\n",
            "Current Loan Expenses (USD)    0\n",
            "Dependents                     0\n",
            "Credit Score                   0\n",
            "No. of Defaults                0\n",
            "Co-Applicant                   0\n",
            "Property Price                 0\n",
            "Property Type                  0\n",
            "dtype: int64\n"
          ],
          "name": "stdout"
        }
      ]
    },
    {
      "cell_type": "code",
      "metadata": {
        "colab": {
          "base_uri": "https://localhost:8080/"
        },
        "id": "vP-MdK6_Zoav",
        "outputId": "951216a6-8f80-4efa-d59d-48d1cd6d0df6"
      },
      "source": [
        "Gender=df['Gender'].replace(['F','M'],[1,0])\n",
        "Income_Stability=df['Income Stability'].replace(['Low','High'],[0,1])\n",
        "Location=df['Location'].replace(['Rural','Semi-Urban','Urban'],[1,2,3])\n",
        "Expense_Type_1=df['Expense Type 1'].replace(['N','Y'],[0,1])\n",
        "Expense_Type_2=df['Expense Type 2'].replace(['N','Y'],[0,1])\n",
        "Property_Location=df['Property Location'].replace(['Rural','Semi-Urban','Urban'],[1,2,3])\n",
        "Profession = df['Profession'].replace(['Working', 'Pensioner', 'State servant', 'Commercial associate',\\\n",
        "'Unemployed','Student', 'Businessman', 'Maternity leave'],[1.0,2.0,3,4,5,6,7,8])\n",
        "\n",
        "list_of_tuples = list(zip(Gender,Income_Stability,Location,Expense_Type_1,Expense_Type_2,Property_Location,Profession))\n",
        "d = pd.DataFrame(list_of_tuples,columns=['Gender', 'Income_Stability','Location','Expense_Type_1','Expense_Type_2','Property_Location','Profession'])  \n",
        "d['Customer ID']=df['Customer ID']\n",
        "d['Age']=df['Age']\n",
        "d['Income (USD)']=df['Income (USD)']\n",
        "d['Loan Amount Request (USD)']=df['Loan Amount Request (USD)']\n",
        "d['Current Loan Expenses (USD)']=df['Current Loan Expenses (USD)']\n",
        "d['Dependents']=df['Dependents']\n",
        "d['Credit Score']=df['Credit Score']\n",
        "d['No. of Defaults']=df['No. of Defaults']\n",
        "d['Co-Applicant']=df['Co-Applicant']\n",
        "d['Property Price']=df['Property Price']\n",
        "d['Property Type']=df['Property Type']\n",
        "d['Loan Sanction Amount (USD)']=df['Loan Sanction Amount (USD)']\n",
        "d.head()\n",
        "d.shape\n"
      ],
      "execution_count": null,
      "outputs": [
        {
          "output_type": "execute_result",
          "data": {
            "text/plain": [
              "(30000, 19)"
            ]
          },
          "metadata": {
            "tags": []
          },
          "execution_count": 8
        }
      ]
    },
    {
      "cell_type": "code",
      "metadata": {
        "colab": {
          "base_uri": "https://localhost:8080/"
        },
        "id": "b-ibYrDZWrR0",
        "outputId": "ecde4d5f-2ea6-491b-99a6-a382ca7bdc4c"
      },
      "source": [
        "new_d=d.dropna()\n",
        "print(new_d.shape)\n",
        "\n"
      ],
      "execution_count": null,
      "outputs": [
        {
          "output_type": "stream",
          "text": [
            "(21030, 19)\n"
          ],
          "name": "stdout"
        }
      ]
    },
    {
      "cell_type": "code",
      "metadata": {
        "id": "EuA1kOMvjBZS"
      },
      "source": [
        "from sklearn.model_selection import train_test_split as tts\n",
        "import numpy as np"
      ],
      "execution_count": null,
      "outputs": []
    },
    {
      "cell_type": "code",
      "metadata": {
        "colab": {
          "base_uri": "https://localhost:8080/"
        },
        "id": "9G8stOepfRCq",
        "outputId": "f15d24f3-8e77-40e1-e60a-44c36d76b051"
      },
      "source": [
        "X_train,X_test,y_train,y_test = tts(new_d.drop(['Loan Sanction Amount (USD)'],axis=1),new_d['Loan Sanction Amount (USD)'],test_size = 0.2,random_state = 1)\n",
        "print(X_train.shape, type(X_train))\n",
        "print(X_test.shape)\n",
        "print(y_train.shape)\n",
        "print(y_test.shape)\n",
        "\n"
      ],
      "execution_count": null,
      "outputs": [
        {
          "output_type": "stream",
          "text": [
            "(16824, 18) <class 'pandas.core.frame.DataFrame'>\n",
            "(4206, 18)\n",
            "(16824,)\n",
            "(4206,)\n"
          ],
          "name": "stdout"
        }
      ]
    },
    {
      "cell_type": "code",
      "metadata": {
        "id": "bmqTymu1X381"
      },
      "source": [
        "import numpy as np\n",
        "import matplotlib.pyplot as plt\n",
        "import h5py\n",
        "import scipy\n",
        "from PIL import Image\n",
        "from scipy import ndimage\n",
        "from sklearn.neural_network import MLPClassifier\n",
        "from sklearn.neural_network import MLPRegressor\n",
        "from sklearn.svm import SVR\n",
        "from sklearn.linear_model import LogisticRegression\n",
        "from sklearn.tree import DecisionTreeRegressor\n",
        "from sklearn.ensemble import RandomForestRegressor\n",
        "from sklearn.ensemble import GradientBoostingRegressor"
      ],
      "execution_count": null,
      "outputs": []
    },
    {
      "cell_type": "code",
      "metadata": {
        "id": "0f5hvR0CYsjX"
      },
      "source": [
        "gbr = GradientBoostingRegressor()\n",
        "X_train = X_train.drop(['Customer ID'], axis=1)\n",
        "gbr.fit(X_train,y_train)\n",
        "X_test_old = X_test\n",
        "X_test = X_test.drop(['Customer ID'], axis=1)\n"
      ],
      "execution_count": null,
      "outputs": []
    },
    {
      "cell_type": "code",
      "metadata": {
        "id": "pLTj64HRdaDk"
      },
      "source": [
        ""
      ],
      "execution_count": null,
      "outputs": []
    },
    {
      "cell_type": "code",
      "metadata": {
        "id": "KK697B-QjsMr"
      },
      "source": [
        "ans_df = pd.DataFrame(columns=['Customer ID','Loan Sanction Amount (USD)'])\n",
        "new_d_test_1=new_d_test.drop(['Customer ID'], axis=1)\n"
      ],
      "execution_count": null,
      "outputs": []
    },
    {
      "cell_type": "code",
      "metadata": {
        "id": "9ylYHrJl6B9l"
      },
      "source": [
        "ans_df['Customer ID'] = new_d_test['Customer ID']\n"
      ],
      "execution_count": null,
      "outputs": []
    },
    {
      "cell_type": "code",
      "metadata": {
        "id": "DAWCrZYt7aDy"
      },
      "source": [
        "ans_df['Loan Sanction Amount (USD)'] = gbr.predict(new_d_test_1)"
      ],
      "execution_count": null,
      "outputs": []
    },
    {
      "cell_type": "code",
      "metadata": {
        "colab": {
          "base_uri": "https://localhost:8080/"
        },
        "id": "OkHfEpYD7jTM",
        "outputId": "dc62f3f4-569a-45fa-fe0c-d3fd9a9d2119"
      },
      "source": [
        "print(ans_df.shape)\n",
        "ans_df.head\n",
        "ans_df.to_csv('solution_rfr.csv',index=False)\n"
      ],
      "execution_count": null,
      "outputs": [
        {
          "output_type": "stream",
          "text": [
            "(20000, 2)\n"
          ],
          "name": "stdout"
        }
      ]
    },
    {
      "cell_type": "code",
      "metadata": {
        "id": "fuOtt69h7lE6"
      },
      "source": [
        ""
      ],
      "execution_count": null,
      "outputs": []
    },
    {
      "cell_type": "code",
      "metadata": {
        "id": "ZNfgO_my7uGV"
      },
      "source": [
        ""
      ],
      "execution_count": null,
      "outputs": []
    },
    {
      "cell_type": "code",
      "metadata": {
        "id": "IdU80oHF8l_C"
      },
      "source": [
        ""
      ],
      "execution_count": null,
      "outputs": []
    }
  ]
}